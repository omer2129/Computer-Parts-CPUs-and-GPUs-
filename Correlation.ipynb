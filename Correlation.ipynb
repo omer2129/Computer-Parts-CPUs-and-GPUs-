{
 "cells": [
  {
   "cell_type": "code",
   "execution_count": 33,
   "metadata": {},
   "outputs": [],
   "source": [
    "import pandas as pd\n",
    "import numpy as np\n",
    "import matplotlib.pyplot as plt\n",
    "import seaborn as sns\n",
    "%matplotlib inline"
   ]
  },
  {
   "cell_type": "code",
   "execution_count": 35,
   "metadata": {},
   "outputs": [],
   "source": [
    "path=\"C:/Users/Taha/Desktop/DataWrangling_part2.csv\"\n",
    "df=pd.read_csv(path)"
   ]
  },
  {
   "cell_type": "code",
   "execution_count": 40,
   "metadata": {},
   "outputs": [
    {
     "data": {
      "text/html": [
       "<div>\n",
       "<style scoped>\n",
       "    .dataframe tbody tr th:only-of-type {\n",
       "        vertical-align: middle;\n",
       "    }\n",
       "\n",
       "    .dataframe tbody tr th {\n",
       "        vertical-align: top;\n",
       "    }\n",
       "\n",
       "    .dataframe thead th {\n",
       "        text-align: right;\n",
       "    }\n",
       "</style>\n",
       "<table border=\"1\" class=\"dataframe\">\n",
       "  <thead>\n",
       "    <tr style=\"text-align: right;\">\n",
       "      <th></th>\n",
       "      <th>Unnamed: 0</th>\n",
       "      <th>Unnamed: 0.1</th>\n",
       "      <th>Architecture</th>\n",
       "      <th>Best_Resolution</th>\n",
       "      <th>Boost_Clock</th>\n",
       "      <th>Core_Speed</th>\n",
       "      <th>DVI_Connection</th>\n",
       "      <th>Dedicated</th>\n",
       "      <th>Direct_X</th>\n",
       "      <th>DisplayPort_Connection</th>\n",
       "      <th>...</th>\n",
       "      <th>Process</th>\n",
       "      <th>ROPs</th>\n",
       "      <th>Release_Date</th>\n",
       "      <th>Release_Price</th>\n",
       "      <th>Resolution_WxH</th>\n",
       "      <th>SLI_Crossfire</th>\n",
       "      <th>Shader</th>\n",
       "      <th>TMUs</th>\n",
       "      <th>Texture_Rate</th>\n",
       "      <th>VGA_Connection</th>\n",
       "    </tr>\n",
       "  </thead>\n",
       "  <tbody>\n",
       "    <tr>\n",
       "      <th>0</th>\n",
       "      <td>0</td>\n",
       "      <td>0</td>\n",
       "      <td>Tesla G92b</td>\n",
       "      <td>1920 x 1080</td>\n",
       "      <td>1050 MHz</td>\n",
       "      <td>738 MHz</td>\n",
       "      <td>2.0</td>\n",
       "      <td>Yes</td>\n",
       "      <td>DX 10.0</td>\n",
       "      <td>2.0</td>\n",
       "      <td>...</td>\n",
       "      <td>55nm</td>\n",
       "      <td>16</td>\n",
       "      <td>\\n01-Mar-2009</td>\n",
       "      <td>371.562446</td>\n",
       "      <td>2560x1600</td>\n",
       "      <td>Yes</td>\n",
       "      <td>4.0</td>\n",
       "      <td>64.0</td>\n",
       "      <td>47 GTexel/s</td>\n",
       "      <td>0.0</td>\n",
       "    </tr>\n",
       "    <tr>\n",
       "      <th>1</th>\n",
       "      <td>1</td>\n",
       "      <td>1</td>\n",
       "      <td>R600 XT</td>\n",
       "      <td>1366 x 768</td>\n",
       "      <td>1050 MHz</td>\n",
       "      <td>1000 MHz</td>\n",
       "      <td>2.0</td>\n",
       "      <td>Yes</td>\n",
       "      <td>DX 10</td>\n",
       "      <td>2.0</td>\n",
       "      <td>...</td>\n",
       "      <td>80nm</td>\n",
       "      <td>16</td>\n",
       "      <td>\\n14-May-2007</td>\n",
       "      <td>371.562446</td>\n",
       "      <td>2560x1600</td>\n",
       "      <td>Yes</td>\n",
       "      <td>4.0</td>\n",
       "      <td>16.0</td>\n",
       "      <td>12 GTexel/s</td>\n",
       "      <td>0.0</td>\n",
       "    </tr>\n",
       "    <tr>\n",
       "      <th>2</th>\n",
       "      <td>2</td>\n",
       "      <td>2</td>\n",
       "      <td>R600 PRO</td>\n",
       "      <td>1366 x 768</td>\n",
       "      <td>1050 MHz</td>\n",
       "      <td>1000 MHz</td>\n",
       "      <td>2.0</td>\n",
       "      <td>Yes</td>\n",
       "      <td>DX 10</td>\n",
       "      <td>2.0</td>\n",
       "      <td>...</td>\n",
       "      <td>80nm</td>\n",
       "      <td>16</td>\n",
       "      <td>\\n07-Dec-2007</td>\n",
       "      <td>371.562446</td>\n",
       "      <td>2560x1600</td>\n",
       "      <td>Yes</td>\n",
       "      <td>4.0</td>\n",
       "      <td>16.0</td>\n",
       "      <td>10 GTexel/s</td>\n",
       "      <td>0.0</td>\n",
       "    </tr>\n",
       "    <tr>\n",
       "      <th>3</th>\n",
       "      <td>3</td>\n",
       "      <td>3</td>\n",
       "      <td>RV630</td>\n",
       "      <td>1024 x 768</td>\n",
       "      <td>1050 MHz</td>\n",
       "      <td>1000 MHz</td>\n",
       "      <td>2.0</td>\n",
       "      <td>Yes</td>\n",
       "      <td>DX 10</td>\n",
       "      <td>2.0</td>\n",
       "      <td>...</td>\n",
       "      <td>65nm</td>\n",
       "      <td>4</td>\n",
       "      <td>\\n01-Jul-2007</td>\n",
       "      <td>371.562446</td>\n",
       "      <td>2560x1600</td>\n",
       "      <td>Yes</td>\n",
       "      <td>4.0</td>\n",
       "      <td>8.0</td>\n",
       "      <td>7 GTexel/s</td>\n",
       "      <td>0.0</td>\n",
       "    </tr>\n",
       "    <tr>\n",
       "      <th>4</th>\n",
       "      <td>4</td>\n",
       "      <td>4</td>\n",
       "      <td>RV630</td>\n",
       "      <td>1024 x 768</td>\n",
       "      <td>1050 MHz</td>\n",
       "      <td>1000 MHz</td>\n",
       "      <td>2.0</td>\n",
       "      <td>Yes</td>\n",
       "      <td>DX 10</td>\n",
       "      <td>2.0</td>\n",
       "      <td>...</td>\n",
       "      <td>65nm</td>\n",
       "      <td>4</td>\n",
       "      <td>\\n28-Jun-2007</td>\n",
       "      <td>371.562446</td>\n",
       "      <td>2560x1600</td>\n",
       "      <td>Yes</td>\n",
       "      <td>4.0</td>\n",
       "      <td>8.0</td>\n",
       "      <td>6 GTexel/s</td>\n",
       "      <td>0.0</td>\n",
       "    </tr>\n",
       "  </tbody>\n",
       "</table>\n",
       "<p>5 rows × 36 columns</p>\n",
       "</div>"
      ],
      "text/plain": [
       "   Unnamed: 0  Unnamed: 0.1 Architecture Best_Resolution Boost_Clock  \\\n",
       "0           0             0  Tesla G92b      1920 x 1080   1050 MHz    \n",
       "1           1             1     R600 XT       1366 x 768   1050 MHz    \n",
       "2           2             2    R600 PRO       1366 x 768   1050 MHz    \n",
       "3           3             3       RV630       1024 x 768   1050 MHz    \n",
       "4           4             4       RV630       1024 x 768   1050 MHz    \n",
       "\n",
       "  Core_Speed  DVI_Connection Dedicated Direct_X  DisplayPort_Connection  ...  \\\n",
       "0    738 MHz             2.0       Yes  DX 10.0                     2.0  ...   \n",
       "1   1000 MHz             2.0       Yes    DX 10                     2.0  ...   \n",
       "2   1000 MHz             2.0       Yes    DX 10                     2.0  ...   \n",
       "3   1000 MHz             2.0       Yes    DX 10                     2.0  ...   \n",
       "4   1000 MHz             2.0       Yes    DX 10                     2.0  ...   \n",
       "\n",
       "   Process ROPs    Release_Date Release_Price Resolution_WxH SLI_Crossfire  \\\n",
       "0     55nm   16  \\n01-Mar-2009     371.562446      2560x1600           Yes   \n",
       "1     80nm   16  \\n14-May-2007     371.562446      2560x1600           Yes   \n",
       "2     80nm   16  \\n07-Dec-2007     371.562446      2560x1600           Yes   \n",
       "3     65nm    4  \\n01-Jul-2007     371.562446      2560x1600           Yes   \n",
       "4     65nm    4  \\n28-Jun-2007     371.562446      2560x1600           Yes   \n",
       "\n",
       "  Shader  TMUs Texture_Rate VGA_Connection  \n",
       "0    4.0  64.0  47 GTexel/s            0.0  \n",
       "1    4.0  16.0  12 GTexel/s            0.0  \n",
       "2    4.0  16.0  10 GTexel/s            0.0  \n",
       "3    4.0   8.0   7 GTexel/s            0.0  \n",
       "4    4.0   8.0   6 GTexel/s            0.0  \n",
       "\n",
       "[5 rows x 36 columns]"
      ]
     },
     "execution_count": 40,
     "metadata": {},
     "output_type": "execute_result"
    }
   ],
   "source": [
    "df.head()"
   ]
  },
  {
   "cell_type": "code",
   "execution_count": 41,
   "metadata": {},
   "outputs": [
    {
     "data": {
      "text/plain": [
       "Unnamed: 0                  int64\n",
       "Unnamed: 0.1                int64\n",
       "Architecture               object\n",
       "Best_Resolution            object\n",
       "Boost_Clock                object\n",
       "Core_Speed                 object\n",
       "DVI_Connection            float64\n",
       "Dedicated                  object\n",
       "Direct_X                   object\n",
       "DisplayPort_Connection    float64\n",
       "HDMI_Connection           float64\n",
       "Integrated                 object\n",
       "L2_Cache                   object\n",
       "Manufacturer               object\n",
       "Max_Power                  object\n",
       "Memory                     object\n",
       "Memory_Bandwidth           object\n",
       "Memory_Bus                 object\n",
       "Memory_Speed               object\n",
       "Memory_Type                object\n",
       "Name                       object\n",
       "Notebook_GPU               object\n",
       "Open_GL                   float64\n",
       "PSU                        object\n",
       "Pixel_Rate                 object\n",
       "Power_Connector            object\n",
       "Process                    object\n",
       "ROPs                       object\n",
       "Release_Date               object\n",
       "Release_Price             float64\n",
       "Resolution_WxH             object\n",
       "SLI_Crossfire              object\n",
       "Shader                    float64\n",
       "TMUs                      float64\n",
       "Texture_Rate               object\n",
       "VGA_Connection            float64\n",
       "dtype: object"
      ]
     },
     "execution_count": 41,
     "metadata": {},
     "output_type": "execute_result"
    }
   ],
   "source": [
    "df.dtypes"
   ]
  },
  {
   "cell_type": "code",
   "execution_count": 37,
   "metadata": {},
   "outputs": [
    {
     "data": {
      "text/html": [
       "<div>\n",
       "<style scoped>\n",
       "    .dataframe tbody tr th:only-of-type {\n",
       "        vertical-align: middle;\n",
       "    }\n",
       "\n",
       "    .dataframe tbody tr th {\n",
       "        vertical-align: top;\n",
       "    }\n",
       "\n",
       "    .dataframe thead th {\n",
       "        text-align: right;\n",
       "    }\n",
       "</style>\n",
       "<table border=\"1\" class=\"dataframe\">\n",
       "  <thead>\n",
       "    <tr style=\"text-align: right;\">\n",
       "      <th></th>\n",
       "      <th>Unnamed: 0</th>\n",
       "      <th>Unnamed: 0.1</th>\n",
       "      <th>DVI_Connection</th>\n",
       "      <th>DisplayPort_Connection</th>\n",
       "      <th>HDMI_Connection</th>\n",
       "      <th>Open_GL</th>\n",
       "      <th>Release_Price</th>\n",
       "      <th>Shader</th>\n",
       "      <th>TMUs</th>\n",
       "      <th>VGA_Connection</th>\n",
       "    </tr>\n",
       "  </thead>\n",
       "  <tbody>\n",
       "    <tr>\n",
       "      <th>Unnamed: 0</th>\n",
       "      <td>1.000000</td>\n",
       "      <td>1.000000</td>\n",
       "      <td>0.266600</td>\n",
       "      <td>-0.037225</td>\n",
       "      <td>0.088346</td>\n",
       "      <td>0.252716</td>\n",
       "      <td>-0.012725</td>\n",
       "      <td>0.199472</td>\n",
       "      <td>0.182040</td>\n",
       "      <td>0.169967</td>\n",
       "    </tr>\n",
       "    <tr>\n",
       "      <th>Unnamed: 0.1</th>\n",
       "      <td>1.000000</td>\n",
       "      <td>1.000000</td>\n",
       "      <td>0.266600</td>\n",
       "      <td>-0.037225</td>\n",
       "      <td>0.088346</td>\n",
       "      <td>0.252716</td>\n",
       "      <td>-0.012725</td>\n",
       "      <td>0.199472</td>\n",
       "      <td>0.182040</td>\n",
       "      <td>0.169967</td>\n",
       "    </tr>\n",
       "    <tr>\n",
       "      <th>DVI_Connection</th>\n",
       "      <td>0.266600</td>\n",
       "      <td>0.266600</td>\n",
       "      <td>1.000000</td>\n",
       "      <td>-0.071383</td>\n",
       "      <td>0.198024</td>\n",
       "      <td>0.184230</td>\n",
       "      <td>0.093752</td>\n",
       "      <td>0.099257</td>\n",
       "      <td>0.237355</td>\n",
       "      <td>-0.125827</td>\n",
       "    </tr>\n",
       "    <tr>\n",
       "      <th>DisplayPort_Connection</th>\n",
       "      <td>-0.037225</td>\n",
       "      <td>-0.037225</td>\n",
       "      <td>-0.071383</td>\n",
       "      <td>1.000000</td>\n",
       "      <td>0.025614</td>\n",
       "      <td>-0.036655</td>\n",
       "      <td>0.064537</td>\n",
       "      <td>-0.026712</td>\n",
       "      <td>0.232505</td>\n",
       "      <td>-0.073473</td>\n",
       "    </tr>\n",
       "    <tr>\n",
       "      <th>HDMI_Connection</th>\n",
       "      <td>0.088346</td>\n",
       "      <td>0.088346</td>\n",
       "      <td>0.198024</td>\n",
       "      <td>0.025614</td>\n",
       "      <td>1.000000</td>\n",
       "      <td>0.434525</td>\n",
       "      <td>-0.054158</td>\n",
       "      <td>0.409221</td>\n",
       "      <td>0.173122</td>\n",
       "      <td>-0.169307</td>\n",
       "    </tr>\n",
       "    <tr>\n",
       "      <th>Open_GL</th>\n",
       "      <td>0.252716</td>\n",
       "      <td>0.252716</td>\n",
       "      <td>0.184230</td>\n",
       "      <td>-0.036655</td>\n",
       "      <td>0.434525</td>\n",
       "      <td>1.000000</td>\n",
       "      <td>0.002894</td>\n",
       "      <td>0.842321</td>\n",
       "      <td>0.183278</td>\n",
       "      <td>-0.181093</td>\n",
       "    </tr>\n",
       "    <tr>\n",
       "      <th>Release_Price</th>\n",
       "      <td>-0.012725</td>\n",
       "      <td>-0.012725</td>\n",
       "      <td>0.093752</td>\n",
       "      <td>0.064537</td>\n",
       "      <td>-0.054158</td>\n",
       "      <td>0.002894</td>\n",
       "      <td>1.000000</td>\n",
       "      <td>0.002351</td>\n",
       "      <td>0.113612</td>\n",
       "      <td>-0.021029</td>\n",
       "    </tr>\n",
       "    <tr>\n",
       "      <th>Shader</th>\n",
       "      <td>0.199472</td>\n",
       "      <td>0.199472</td>\n",
       "      <td>0.099257</td>\n",
       "      <td>-0.026712</td>\n",
       "      <td>0.409221</td>\n",
       "      <td>0.842321</td>\n",
       "      <td>0.002351</td>\n",
       "      <td>1.000000</td>\n",
       "      <td>0.149145</td>\n",
       "      <td>-0.172710</td>\n",
       "    </tr>\n",
       "    <tr>\n",
       "      <th>TMUs</th>\n",
       "      <td>0.182040</td>\n",
       "      <td>0.182040</td>\n",
       "      <td>0.237355</td>\n",
       "      <td>0.232505</td>\n",
       "      <td>0.173122</td>\n",
       "      <td>0.183278</td>\n",
       "      <td>0.113612</td>\n",
       "      <td>0.149145</td>\n",
       "      <td>1.000000</td>\n",
       "      <td>-0.306412</td>\n",
       "    </tr>\n",
       "    <tr>\n",
       "      <th>VGA_Connection</th>\n",
       "      <td>0.169967</td>\n",
       "      <td>0.169967</td>\n",
       "      <td>-0.125827</td>\n",
       "      <td>-0.073473</td>\n",
       "      <td>-0.169307</td>\n",
       "      <td>-0.181093</td>\n",
       "      <td>-0.021029</td>\n",
       "      <td>-0.172710</td>\n",
       "      <td>-0.306412</td>\n",
       "      <td>1.000000</td>\n",
       "    </tr>\n",
       "  </tbody>\n",
       "</table>\n",
       "</div>"
      ],
      "text/plain": [
       "                        Unnamed: 0  Unnamed: 0.1  DVI_Connection  \\\n",
       "Unnamed: 0                1.000000      1.000000        0.266600   \n",
       "Unnamed: 0.1              1.000000      1.000000        0.266600   \n",
       "DVI_Connection            0.266600      0.266600        1.000000   \n",
       "DisplayPort_Connection   -0.037225     -0.037225       -0.071383   \n",
       "HDMI_Connection           0.088346      0.088346        0.198024   \n",
       "Open_GL                   0.252716      0.252716        0.184230   \n",
       "Release_Price            -0.012725     -0.012725        0.093752   \n",
       "Shader                    0.199472      0.199472        0.099257   \n",
       "TMUs                      0.182040      0.182040        0.237355   \n",
       "VGA_Connection            0.169967      0.169967       -0.125827   \n",
       "\n",
       "                        DisplayPort_Connection  HDMI_Connection   Open_GL  \\\n",
       "Unnamed: 0                           -0.037225         0.088346  0.252716   \n",
       "Unnamed: 0.1                         -0.037225         0.088346  0.252716   \n",
       "DVI_Connection                       -0.071383         0.198024  0.184230   \n",
       "DisplayPort_Connection                1.000000         0.025614 -0.036655   \n",
       "HDMI_Connection                       0.025614         1.000000  0.434525   \n",
       "Open_GL                              -0.036655         0.434525  1.000000   \n",
       "Release_Price                         0.064537        -0.054158  0.002894   \n",
       "Shader                               -0.026712         0.409221  0.842321   \n",
       "TMUs                                  0.232505         0.173122  0.183278   \n",
       "VGA_Connection                       -0.073473        -0.169307 -0.181093   \n",
       "\n",
       "                        Release_Price    Shader      TMUs  VGA_Connection  \n",
       "Unnamed: 0                  -0.012725  0.199472  0.182040        0.169967  \n",
       "Unnamed: 0.1                -0.012725  0.199472  0.182040        0.169967  \n",
       "DVI_Connection               0.093752  0.099257  0.237355       -0.125827  \n",
       "DisplayPort_Connection       0.064537 -0.026712  0.232505       -0.073473  \n",
       "HDMI_Connection             -0.054158  0.409221  0.173122       -0.169307  \n",
       "Open_GL                      0.002894  0.842321  0.183278       -0.181093  \n",
       "Release_Price                1.000000  0.002351  0.113612       -0.021029  \n",
       "Shader                       0.002351  1.000000  0.149145       -0.172710  \n",
       "TMUs                         0.113612  0.149145  1.000000       -0.306412  \n",
       "VGA_Connection              -0.021029 -0.172710 -0.306412        1.000000  "
      ]
     },
     "execution_count": 37,
     "metadata": {},
     "output_type": "execute_result"
    }
   ],
   "source": [
    "df.corr()"
   ]
  },
  {
   "cell_type": "code",
   "execution_count": 38,
   "metadata": {},
   "outputs": [
    {
     "data": {
      "text/html": [
       "<div>\n",
       "<style scoped>\n",
       "    .dataframe tbody tr th:only-of-type {\n",
       "        vertical-align: middle;\n",
       "    }\n",
       "\n",
       "    .dataframe tbody tr th {\n",
       "        vertical-align: top;\n",
       "    }\n",
       "\n",
       "    .dataframe thead th {\n",
       "        text-align: right;\n",
       "    }\n",
       "</style>\n",
       "<table border=\"1\" class=\"dataframe\">\n",
       "  <thead>\n",
       "    <tr style=\"text-align: right;\">\n",
       "      <th></th>\n",
       "      <th>DVI_Connection</th>\n",
       "      <th>DisplayPort_Connection</th>\n",
       "    </tr>\n",
       "  </thead>\n",
       "  <tbody>\n",
       "    <tr>\n",
       "      <th>DVI_Connection</th>\n",
       "      <td>1.000000</td>\n",
       "      <td>-0.071383</td>\n",
       "    </tr>\n",
       "    <tr>\n",
       "      <th>DisplayPort_Connection</th>\n",
       "      <td>-0.071383</td>\n",
       "      <td>1.000000</td>\n",
       "    </tr>\n",
       "  </tbody>\n",
       "</table>\n",
       "</div>"
      ],
      "text/plain": [
       "                        DVI_Connection  DisplayPort_Connection\n",
       "DVI_Connection                1.000000               -0.071383\n",
       "DisplayPort_Connection       -0.071383                1.000000"
      ]
     },
     "execution_count": 38,
     "metadata": {},
     "output_type": "execute_result"
    }
   ],
   "source": [
    "df[['DVI_Connection','DisplayPort_Connection']].corr()"
   ]
  },
  {
   "cell_type": "code",
   "execution_count": 39,
   "metadata": {},
   "outputs": [
    {
     "data": {
      "text/plain": [
       "<matplotlib.axes._subplots.AxesSubplot at 0x15a305d2188>"
      ]
     },
     "execution_count": 39,
     "metadata": {},
     "output_type": "execute_result"
    },
    {
     "data": {
      "image/png": "[encoded data removed]",
      "text/plain": [
       "<Figure size 432x288 with 1 Axes>"
      ]
     },
     "metadata": {
      "needs_background": "light"
     },
     "output_type": "display_data"
    }
   ],
   "source": [
    "sns.regplot(x='DVI_Connection',y='DisplayPort_Connection',data=df)"
   ]
  },
  {
   "cell_type": "code",
   "execution_count": 45,
   "metadata": {},
   "outputs": [
    {
     "data": {
      "text/html": [
       "<div>\n",
       "<style scoped>\n",
       "    .dataframe tbody tr th:only-of-type {\n",
       "        vertical-align: middle;\n",
       "    }\n",
       "\n",
       "    .dataframe tbody tr th {\n",
       "        vertical-align: top;\n",
       "    }\n",
       "\n",
       "    .dataframe thead th {\n",
       "        text-align: right;\n",
       "    }\n",
       "</style>\n",
       "<table border=\"1\" class=\"dataframe\">\n",
       "  <thead>\n",
       "    <tr style=\"text-align: right;\">\n",
       "      <th></th>\n",
       "      <th>HDMI_Connection</th>\n",
       "      <th>Open_GL</th>\n",
       "    </tr>\n",
       "  </thead>\n",
       "  <tbody>\n",
       "    <tr>\n",
       "      <th>HDMI_Connection</th>\n",
       "      <td>1.000000</td>\n",
       "      <td>0.434525</td>\n",
       "    </tr>\n",
       "    <tr>\n",
       "      <th>Open_GL</th>\n",
       "      <td>0.434525</td>\n",
       "      <td>1.000000</td>\n",
       "    </tr>\n",
       "  </tbody>\n",
       "</table>\n",
       "</div>"
      ],
      "text/plain": [
       "                 HDMI_Connection   Open_GL\n",
       "HDMI_Connection         1.000000  0.434525\n",
       "Open_GL                 0.434525  1.000000"
      ]
     },
     "execution_count": 45,
     "metadata": {},
     "output_type": "execute_result"
    }
   ],
   "source": [
    "df[['HDMI_Connection','Open_GL']].corr()"
   ]
  },
  {
   "cell_type": "code",
   "execution_count": 46,
   "metadata": {},
   "outputs": [
    {
     "data": {
      "text/plain": [
       "<matplotlib.axes._subplots.AxesSubplot at 0x15a30687688>"
      ]
     },
     "execution_count": 46,
     "metadata": {},
     "output_type": "execute_result"
    },
    {
     "data": {
      "image/png": "[encoded data removed]",
      "text/plain": [
       "<Figure size 432x288 with 1 Axes>"
      ]
     },
     "metadata": {
      "needs_background": "light"
     },
     "output_type": "display_data"
    }
   ],
   "source": [
    "sns.regplot(x='HDMI_Connection',y='Open_GL',data=df)"
   ]
  },
  {
   "cell_type": "code",
   "execution_count": 47,
   "metadata": {},
   "outputs": [
    {
     "data": {
      "text/html": [
       "<div>\n",
       "<style scoped>\n",
       "    .dataframe tbody tr th:only-of-type {\n",
       "        vertical-align: middle;\n",
       "    }\n",
       "\n",
       "    .dataframe tbody tr th {\n",
       "        vertical-align: top;\n",
       "    }\n",
       "\n",
       "    .dataframe thead th {\n",
       "        text-align: right;\n",
       "    }\n",
       "</style>\n",
       "<table border=\"1\" class=\"dataframe\">\n",
       "  <thead>\n",
       "    <tr style=\"text-align: right;\">\n",
       "      <th></th>\n",
       "      <th>Release_Price</th>\n",
       "      <th>Shader</th>\n",
       "    </tr>\n",
       "  </thead>\n",
       "  <tbody>\n",
       "    <tr>\n",
       "      <th>Release_Price</th>\n",
       "      <td>1.000000</td>\n",
       "      <td>0.002351</td>\n",
       "    </tr>\n",
       "    <tr>\n",
       "      <th>Shader</th>\n",
       "      <td>0.002351</td>\n",
       "      <td>1.000000</td>\n",
       "    </tr>\n",
       "  </tbody>\n",
       "</table>\n",
       "</div>"
      ],
      "text/plain": [
       "               Release_Price    Shader\n",
       "Release_Price       1.000000  0.002351\n",
       "Shader              0.002351  1.000000"
      ]
     },
     "execution_count": 47,
     "metadata": {},
     "output_type": "execute_result"
    }
   ],
   "source": [
    "df[['Release_Price','Shader']].corr()"
   ]
  },
  {
   "cell_type": "code",
   "execution_count": 48,
   "metadata": {},
   "outputs": [
    {
     "data": {
      "text/plain": [
       "<matplotlib.axes._subplots.AxesSubplot at 0x15a306f4c48>"
      ]
     },
     "execution_count": 48,
     "metadata": {},
     "output_type": "execute_result"
    },
    {
     "data": {
      "image/png": "[encoded data removed]",
      "text/plain": [
       "<Figure size 432x288 with 1 Axes>"
      ]
     },
     "metadata": {
      "needs_background": "light"
     },
     "output_type": "display_data"
    }
   ],
   "source": [
    "sns.regplot(x='Release_Price',y='Shader',data=df)"
   ]
  },
  {
   "cell_type": "code",
   "execution_count": 50,
   "metadata": {},
   "outputs": [
    {
     "data": {
      "text/html": [
       "<div>\n",
       "<style scoped>\n",
       "    .dataframe tbody tr th:only-of-type {\n",
       "        vertical-align: middle;\n",
       "    }\n",
       "\n",
       "    .dataframe tbody tr th {\n",
       "        vertical-align: top;\n",
       "    }\n",
       "\n",
       "    .dataframe thead th {\n",
       "        text-align: right;\n",
       "    }\n",
       "</style>\n",
       "<table border=\"1\" class=\"dataframe\">\n",
       "  <thead>\n",
       "    <tr style=\"text-align: right;\">\n",
       "      <th></th>\n",
       "      <th>TMUs</th>\n",
       "      <th>VGA_Connection</th>\n",
       "    </tr>\n",
       "  </thead>\n",
       "  <tbody>\n",
       "    <tr>\n",
       "      <th>TMUs</th>\n",
       "      <td>1.000000</td>\n",
       "      <td>-0.306412</td>\n",
       "    </tr>\n",
       "    <tr>\n",
       "      <th>VGA_Connection</th>\n",
       "      <td>-0.306412</td>\n",
       "      <td>1.000000</td>\n",
       "    </tr>\n",
       "  </tbody>\n",
       "</table>\n",
       "</div>"
      ],
      "text/plain": [
       "                    TMUs  VGA_Connection\n",
       "TMUs            1.000000       -0.306412\n",
       "VGA_Connection -0.306412        1.000000"
      ]
     },
     "execution_count": 50,
     "metadata": {},
     "output_type": "execute_result"
    }
   ],
   "source": [
    "df[['TMUs','VGA_Connection']].corr()"
   ]
  },
  {
   "cell_type": "code",
   "execution_count": 51,
   "metadata": {},
   "outputs": [
    {
     "data": {
      "text/plain": [
       "<matplotlib.axes._subplots.AxesSubplot at 0x15a30779dc8>"
      ]
     },
     "execution_count": 51,
     "metadata": {},
     "output_type": "execute_result"
    },
    {
     "data": {
      "image/png": "[encoded data removed]",
      "text/plain": [
       "<Figure size 432x288 with 1 Axes>"
      ]
     },
     "metadata": {
      "needs_background": "light"
     },
     "output_type": "display_data"
    }
   ],
   "source": [
    "sns.regplot(x='TMUs',y='VGA_Connection',data=df)"
   ]
  },
  {
   "cell_type": "code",
   "execution_count": null,
   "metadata": {},
   "outputs": [],
   "source": []
  },
  {
   "cell_type": "code",
   "execution_count": null,
   "metadata": {},
   "outputs": [],
   "source": []
  },
  {
   "cell_type": "code",
   "execution_count": null,
   "metadata": {},
   "outputs": [],
   "source": []
  },
  {
   "cell_type": "code",
   "execution_count": null,
   "metadata": {},
   "outputs": [],
   "source": []
  },
  {
   "cell_type": "code",
   "execution_count": null,
   "metadata": {},
   "outputs": [],
   "source": []
  },
  {
   "cell_type": "code",
   "execution_count": null,
   "metadata": {},
   "outputs": [],
   "source": []
  },
  {
   "cell_type": "code",
   "execution_count": null,
   "metadata": {},
   "outputs": [],
   "source": []
  },
  {
   "cell_type": "code",
   "execution_count": null,
   "metadata": {},
   "outputs": [],
   "source": []
  },
  {
   "cell_type": "code",
   "execution_count": null,
   "metadata": {},
   "outputs": [],
   "source": []
  },
  {
   "cell_type": "code",
   "execution_count": null,
   "metadata": {},
   "outputs": [],
   "source": []
  },
  {
   "cell_type": "code",
   "execution_count": null,
   "metadata": {},
   "outputs": [],
   "source": []
  },
  {
   "cell_type": "code",
   "execution_count": null,
   "metadata": {},
   "outputs": [],
   "source": []
  },
  {
   "cell_type": "code",
   "execution_count": null,
   "metadata": {},
   "outputs": [],
   "source": []
  },
  {
   "cell_type": "code",
   "execution_count": null,
   "metadata": {},
   "outputs": [],
   "source": []
  },
  {
   "cell_type": "code",
   "execution_count": null,
   "metadata": {},
   "outputs": [],
   "source": []
  },
  {
   "cell_type": "code",
   "execution_count": null,
   "metadata": {},
   "outputs": [],
   "source": []
  }
 ],
 "metadata": {
  "kernelspec": {
   "display_name": "Python 3",
   "language": "python",
   "name": "python3"
  },
  "language_info": {
   "codemirror_mode": {
    "name": "ipython",
    "version": 3
   },
   "file_extension": ".py",
   "mimetype": "text/x-python",
   "name": "python",
   "nbconvert_exporter": "python",
   "pygments_lexer": "ipython3",
   "version": "3.7.6"
  }
 },
 "nbformat": 4,
 "nbformat_minor": 4
}
