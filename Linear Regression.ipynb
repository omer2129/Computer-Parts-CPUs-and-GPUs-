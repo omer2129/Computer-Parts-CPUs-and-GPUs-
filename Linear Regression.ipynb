{
 "cells": [
  {
   "cell_type": "code",
   "execution_count": 86,
   "metadata": {},
   "outputs": [],
   "source": [
    "import pandas as pd\n",
    "import numpy as np\n",
    "import matplotlib.pyplot as plt\n",
    "import seaborn as sns\n",
    "path=\"F:/DataWrangling_part2.csv\"\n",
    "df=pd.read_csv(path)"
   ]
  },
  {
   "cell_type": "code",
   "execution_count": 87,
   "metadata": {},
   "outputs": [
    {
     "data": {
      "text/html": [
       "<div>\n",
       "<style scoped>\n",
       "    .dataframe tbody tr th:only-of-type {\n",
       "        vertical-align: middle;\n",
       "    }\n",
       "\n",
       "    .dataframe tbody tr th {\n",
       "        vertical-align: top;\n",
       "    }\n",
       "\n",
       "    .dataframe thead th {\n",
       "        text-align: right;\n",
       "    }\n",
       "</style>\n",
       "<table border=\"1\" class=\"dataframe\">\n",
       "  <thead>\n",
       "    <tr style=\"text-align: right;\">\n",
       "      <th></th>\n",
       "      <th>Architecture</th>\n",
       "      <th>Best_Resolution</th>\n",
       "      <th>Boost_Clock</th>\n",
       "      <th>Core_Speed</th>\n",
       "      <th>DVI_Connection</th>\n",
       "      <th>Dedicated</th>\n",
       "      <th>Direct_X</th>\n",
       "      <th>DisplayPort_Connection</th>\n",
       "      <th>HDMI_Connection</th>\n",
       "      <th>Integrated</th>\n",
       "      <th>...</th>\n",
       "      <th>Process</th>\n",
       "      <th>ROPs</th>\n",
       "      <th>Release_Date</th>\n",
       "      <th>Release_Price</th>\n",
       "      <th>Resolution_WxH</th>\n",
       "      <th>SLI_Crossfire</th>\n",
       "      <th>Shader</th>\n",
       "      <th>TMUs</th>\n",
       "      <th>Texture_Rate</th>\n",
       "      <th>VGA_Connection</th>\n",
       "    </tr>\n",
       "  </thead>\n",
       "  <tbody>\n",
       "    <tr>\n",
       "      <th>0</th>\n",
       "      <td>Tesla G92b</td>\n",
       "      <td>1920 x 1080</td>\n",
       "      <td>1050 MHz</td>\n",
       "      <td>738 MHz</td>\n",
       "      <td>2.0</td>\n",
       "      <td>Yes</td>\n",
       "      <td>DX 10.0</td>\n",
       "      <td>2.0</td>\n",
       "      <td>0.0</td>\n",
       "      <td>No</td>\n",
       "      <td>...</td>\n",
       "      <td>55nm</td>\n",
       "      <td>16</td>\n",
       "      <td>\\n01-Mar-2009</td>\n",
       "      <td>371.562446</td>\n",
       "      <td>2560x1600</td>\n",
       "      <td>Yes</td>\n",
       "      <td>4.0</td>\n",
       "      <td>64.0</td>\n",
       "      <td>47 GTexel/s</td>\n",
       "      <td>0.0</td>\n",
       "    </tr>\n",
       "    <tr>\n",
       "      <th>1</th>\n",
       "      <td>R600 XT</td>\n",
       "      <td>1366 x 768</td>\n",
       "      <td>1050 MHz</td>\n",
       "      <td>1000 MHz</td>\n",
       "      <td>2.0</td>\n",
       "      <td>Yes</td>\n",
       "      <td>DX 10</td>\n",
       "      <td>2.0</td>\n",
       "      <td>0.0</td>\n",
       "      <td>No</td>\n",
       "      <td>...</td>\n",
       "      <td>80nm</td>\n",
       "      <td>16</td>\n",
       "      <td>\\n14-May-2007</td>\n",
       "      <td>371.562446</td>\n",
       "      <td>2560x1600</td>\n",
       "      <td>Yes</td>\n",
       "      <td>4.0</td>\n",
       "      <td>16.0</td>\n",
       "      <td>12 GTexel/s</td>\n",
       "      <td>0.0</td>\n",
       "    </tr>\n",
       "    <tr>\n",
       "      <th>2</th>\n",
       "      <td>R600 PRO</td>\n",
       "      <td>1366 x 768</td>\n",
       "      <td>1050 MHz</td>\n",
       "      <td>1000 MHz</td>\n",
       "      <td>2.0</td>\n",
       "      <td>Yes</td>\n",
       "      <td>DX 10</td>\n",
       "      <td>2.0</td>\n",
       "      <td>0.0</td>\n",
       "      <td>No</td>\n",
       "      <td>...</td>\n",
       "      <td>80nm</td>\n",
       "      <td>16</td>\n",
       "      <td>\\n07-Dec-2007</td>\n",
       "      <td>371.562446</td>\n",
       "      <td>2560x1600</td>\n",
       "      <td>Yes</td>\n",
       "      <td>4.0</td>\n",
       "      <td>16.0</td>\n",
       "      <td>10 GTexel/s</td>\n",
       "      <td>0.0</td>\n",
       "    </tr>\n",
       "    <tr>\n",
       "      <th>3</th>\n",
       "      <td>RV630</td>\n",
       "      <td>1024 x 768</td>\n",
       "      <td>1050 MHz</td>\n",
       "      <td>1000 MHz</td>\n",
       "      <td>2.0</td>\n",
       "      <td>Yes</td>\n",
       "      <td>DX 10</td>\n",
       "      <td>2.0</td>\n",
       "      <td>0.0</td>\n",
       "      <td>No</td>\n",
       "      <td>...</td>\n",
       "      <td>65nm</td>\n",
       "      <td>4</td>\n",
       "      <td>\\n01-Jul-2007</td>\n",
       "      <td>371.562446</td>\n",
       "      <td>2560x1600</td>\n",
       "      <td>Yes</td>\n",
       "      <td>4.0</td>\n",
       "      <td>8.0</td>\n",
       "      <td>7 GTexel/s</td>\n",
       "      <td>0.0</td>\n",
       "    </tr>\n",
       "    <tr>\n",
       "      <th>4</th>\n",
       "      <td>RV630</td>\n",
       "      <td>1024 x 768</td>\n",
       "      <td>1050 MHz</td>\n",
       "      <td>1000 MHz</td>\n",
       "      <td>2.0</td>\n",
       "      <td>Yes</td>\n",
       "      <td>DX 10</td>\n",
       "      <td>2.0</td>\n",
       "      <td>0.0</td>\n",
       "      <td>No</td>\n",
       "      <td>...</td>\n",
       "      <td>65nm</td>\n",
       "      <td>4</td>\n",
       "      <td>\\n28-Jun-2007</td>\n",
       "      <td>371.562446</td>\n",
       "      <td>2560x1600</td>\n",
       "      <td>Yes</td>\n",
       "      <td>4.0</td>\n",
       "      <td>8.0</td>\n",
       "      <td>6 GTexel/s</td>\n",
       "      <td>0.0</td>\n",
       "    </tr>\n",
       "  </tbody>\n",
       "</table>\n",
       "<p>5 rows × 34 columns</p>\n",
       "</div>"
      ],
      "text/plain": [
       "  Architecture Best_Resolution Boost_Clock Core_Speed  DVI_Connection  \\\n",
       "0  Tesla G92b      1920 x 1080   1050 MHz     738 MHz             2.0   \n",
       "1     R600 XT       1366 x 768   1050 MHz    1000 MHz             2.0   \n",
       "2    R600 PRO       1366 x 768   1050 MHz    1000 MHz             2.0   \n",
       "3       RV630       1024 x 768   1050 MHz    1000 MHz             2.0   \n",
       "4       RV630       1024 x 768   1050 MHz    1000 MHz             2.0   \n",
       "\n",
       "  Dedicated Direct_X  DisplayPort_Connection  HDMI_Connection Integrated  ...  \\\n",
       "0       Yes  DX 10.0                     2.0              0.0         No  ...   \n",
       "1       Yes    DX 10                     2.0              0.0         No  ...   \n",
       "2       Yes    DX 10                     2.0              0.0         No  ...   \n",
       "3       Yes    DX 10                     2.0              0.0         No  ...   \n",
       "4       Yes    DX 10                     2.0              0.0         No  ...   \n",
       "\n",
       "  Process ROPs    Release_Date Release_Price Resolution_WxH SLI_Crossfire  \\\n",
       "0    55nm   16  \\n01-Mar-2009     371.562446      2560x1600           Yes   \n",
       "1    80nm   16  \\n14-May-2007     371.562446      2560x1600           Yes   \n",
       "2    80nm   16  \\n07-Dec-2007     371.562446      2560x1600           Yes   \n",
       "3    65nm    4  \\n01-Jul-2007     371.562446      2560x1600           Yes   \n",
       "4    65nm    4  \\n28-Jun-2007     371.562446      2560x1600           Yes   \n",
       "\n",
       "  Shader  TMUs Texture_Rate VGA_Connection  \n",
       "0    4.0  64.0  47 GTexel/s            0.0  \n",
       "1    4.0  16.0  12 GTexel/s            0.0  \n",
       "2    4.0  16.0  10 GTexel/s            0.0  \n",
       "3    4.0   8.0   7 GTexel/s            0.0  \n",
       "4    4.0   8.0   6 GTexel/s            0.0  \n",
       "\n",
       "[5 rows x 34 columns]"
      ]
     },
     "execution_count": 87,
     "metadata": {},
     "output_type": "execute_result"
    }
   ],
   "source": [
    "df = df.drop(columns=['Unnamed: 0', 'Unnamed: 0.1'])\n",
    "df.head()"
   ]
  },
  {
   "cell_type": "code",
   "execution_count": 112,
   "metadata": {},
   "outputs": [
    {
     "data": {
      "text/plain": [
       "<matplotlib.axes._subplots.AxesSubplot at 0x13e79713108>"
      ]
     },
     "execution_count": 112,
     "metadata": {},
     "output_type": "execute_result"
    },
    {
     "data": {
      "image/png": "[encoded data removed]",
      "text/plain": [
       "<Figure size 432x288 with 1 Axes>"
      ]
     },
     "metadata": {
      "needs_background": "light"
     },
     "output_type": "display_data"
    }
   ],
   "source": [
    "sns.distplot(df['DVI_Connection'])"
   ]
  },
  {
   "cell_type": "code",
   "execution_count": 117,
   "metadata": {},
   "outputs": [
    {
     "data": {
      "text/plain": [
       "<matplotlib.axes._subplots.AxesSubplot at 0x13e7b06f0c8>"
      ]
     },
     "execution_count": 117,
     "metadata": {},
     "output_type": "execute_result"
    },
    {
     "data": {
      "image/png": "[encoded data removed]",
      "text/plain": [
       "<Figure size 432x288 with 1 Axes>"
      ]
     },
     "metadata": {
      "needs_background": "light"
     },
     "output_type": "display_data"
    }
   ],
   "source": [
    "sns.distplot(df['Open_GL'])"
   ]
  },
  {
   "cell_type": "code",
   "execution_count": 120,
   "metadata": {},
   "outputs": [
    {
     "data": {
      "text/plain": [
       "<matplotlib.axes._subplots.AxesSubplot at 0x13e796a7648>"
      ]
     },
     "execution_count": 120,
     "metadata": {},
     "output_type": "execute_result"
    },
    {
     "data": {
      "image/png": "[encoded data removed]",
      "text/plain": [
       "<Figure size 432x288 with 1 Axes>"
      ]
     },
     "metadata": {
      "needs_background": "light"
     },
     "output_type": "display_data"
    }
   ],
   "source": [
    "sns.distplot(df['TMUs'])"
   ]
  },
  {
   "cell_type": "code",
   "execution_count": 124,
   "metadata": {},
   "outputs": [
    {
     "data": {
      "text/plain": [
       "<matplotlib.axes._subplots.AxesSubplot at 0x13e7b54cdc8>"
      ]
     },
     "execution_count": 124,
     "metadata": {},
     "output_type": "execute_result"
    },
    {
     "data": {
      "image/png": "[encoded data removed]",
      "text/plain": [
       "<Figure size 432x288 with 1 Axes>"
      ]
     },
     "metadata": {
      "needs_background": "light"
     },
     "output_type": "display_data"
    }
   ],
   "source": [
    "sns.distplot(df['VGA_Connection'], kde_kws={'bw': 0.1})"
   ]
  },
  {
   "cell_type": "code",
   "execution_count": 126,
   "metadata": {},
   "outputs": [
    {
     "data": {
      "text/plain": [
       "<matplotlib.axes._subplots.AxesSubplot at 0x13e7c654fc8>"
      ]
     },
     "execution_count": 126,
     "metadata": {},
     "output_type": "execute_result"
    },
    {
     "data": {
      "image/png": "[encoded data removed]",
      "text/plain": [
       "<Figure size 432x288 with 1 Axes>"
      ]
     },
     "metadata": {
      "needs_background": "light"
     },
     "output_type": "display_data"
    }
   ],
   "source": [
    "sns.distplot(df['Release_Price'], kde_kws={'bw': 0.1})"
   ]
  },
  {
   "cell_type": "code",
   "execution_count": 127,
   "metadata": {},
   "outputs": [
    {
     "data": {
      "text/plain": [
       "<matplotlib.axes._subplots.AxesSubplot at 0x13e7c7288c8>"
      ]
     },
     "execution_count": 127,
     "metadata": {},
     "output_type": "execute_result"
    },
    {
     "data": {
      "image/png": "[encoded data removed]",
      "text/plain": [
       "<Figure size 432x288 with 1 Axes>"
      ]
     },
     "metadata": {
      "needs_background": "light"
     },
     "output_type": "display_data"
    }
   ],
   "source": [
    "sns.distplot(df['DisplayPort_Connection'], kde_kws={'bw': 0.1})"
   ]
  },
  {
   "cell_type": "code",
   "execution_count": 128,
   "metadata": {},
   "outputs": [
    {
     "data": {
      "text/plain": [
       "<matplotlib.axes._subplots.AxesSubplot at 0x13e7c81ec88>"
      ]
     },
     "execution_count": 128,
     "metadata": {},
     "output_type": "execute_result"
    },
    {
     "data": {
      "image/png": "[encoded data removed]",
      "text/plain": [
       "<Figure size 432x288 with 1 Axes>"
      ]
     },
     "metadata": {
      "needs_background": "light"
     },
     "output_type": "display_data"
    }
   ],
   "source": [
    "sns.distplot(df['HDMI_Connection'], kde_kws={'bw': 0.1})"
   ]
  },
  {
   "cell_type": "code",
   "execution_count": 129,
   "metadata": {},
   "outputs": [
    {
     "data": {
      "text/plain": [
       "<matplotlib.axes._subplots.AxesSubplot at 0x13e7aea2d08>"
      ]
     },
     "execution_count": 129,
     "metadata": {},
     "output_type": "execute_result"
    },
    {
     "data": {
      "image/png": "[encoded data removed]",
      "text/plain": [
       "<Figure size 432x288 with 1 Axes>"
      ]
     },
     "metadata": {
      "needs_background": "light"
     },
     "output_type": "display_data"
    }
   ],
   "source": [
    "sns.distplot(df['Shader'], kde_kws={'bw': 0.1})"
   ]
  },
  {
   "cell_type": "code",
   "execution_count": 113,
   "metadata": {},
   "outputs": [
    {
     "data": {
      "text/plain": [
       "Architecture               object\n",
       "Best_Resolution            object\n",
       "Boost_Clock                object\n",
       "Core_Speed                 object\n",
       "DVI_Connection            float64\n",
       "Dedicated                  object\n",
       "Direct_X                   object\n",
       "DisplayPort_Connection    float64\n",
       "HDMI_Connection           float64\n",
       "Integrated                 object\n",
       "L2_Cache                   object\n",
       "Manufacturer               object\n",
       "Max_Power                  object\n",
       "Memory                     object\n",
       "Memory_Bandwidth           object\n",
       "Memory_Bus                 object\n",
       "Memory_Speed               object\n",
       "Memory_Type                object\n",
       "Name                       object\n",
       "Notebook_GPU               object\n",
       "Open_GL                   float64\n",
       "PSU                        object\n",
       "Pixel_Rate                 object\n",
       "Power_Connector            object\n",
       "Process                    object\n",
       "ROPs                       object\n",
       "Release_Date               object\n",
       "Release_Price             float64\n",
       "Resolution_WxH             object\n",
       "SLI_Crossfire              object\n",
       "Shader                    float64\n",
       "TMUs                      float64\n",
       "Texture_Rate               object\n",
       "VGA_Connection            float64\n",
       "dtype: object"
      ]
     },
     "execution_count": 113,
     "metadata": {},
     "output_type": "execute_result"
    }
   ],
   "source": [
    "df.dtypes"
   ]
  },
  {
   "cell_type": "code",
   "execution_count": 90,
   "metadata": {},
   "outputs": [
    {
     "data": {
      "text/plain": [
       "<matplotlib.axes._subplots.AxesSubplot at 0x13e78c42dc8>"
      ]
     },
     "execution_count": 90,
     "metadata": {},
     "output_type": "execute_result"
    },
    {
     "data": {
      "image/png": "[encoded data removed]",
      "text/plain": [
       "<Figure size 432x288 with 2 Axes>"
      ]
     },
     "metadata": {
      "needs_background": "light"
     },
     "output_type": "display_data"
    }
   ],
   "source": [
    "sns.heatmap(df.corr(), annot=True)"
   ]
  },
  {
   "cell_type": "code",
   "execution_count": 91,
   "metadata": {},
   "outputs": [
    {
     "data": {
      "text/plain": [
       "Index(['Architecture', 'Best_Resolution', 'Boost_Clock', 'Core_Speed',\n",
       "       'DVI_Connection', 'Dedicated', 'Direct_X', 'DisplayPort_Connection',\n",
       "       'HDMI_Connection', 'Integrated', 'L2_Cache', 'Manufacturer',\n",
       "       'Max_Power', 'Memory', 'Memory_Bandwidth', 'Memory_Bus', 'Memory_Speed',\n",
       "       'Memory_Type', 'Name', 'Notebook_GPU', 'Open_GL', 'PSU', 'Pixel_Rate',\n",
       "       'Power_Connector', 'Process', 'ROPs', 'Release_Date', 'Release_Price',\n",
       "       'Resolution_WxH', 'SLI_Crossfire', 'Shader', 'TMUs', 'Texture_Rate',\n",
       "       'VGA_Connection'],\n",
       "      dtype='object')"
      ]
     },
     "execution_count": 91,
     "metadata": {},
     "output_type": "execute_result"
    }
   ],
   "source": [
    "df.columns"
   ]
  },
  {
   "cell_type": "code",
   "execution_count": 130,
   "metadata": {},
   "outputs": [],
   "source": [
    "x = df[['DVI_Connection', 'DisplayPort_Connection','HDMI_Connection', 'Open_GL','Shader', 'TMUs','VGA_Connection']]"
   ]
  },
  {
   "cell_type": "code",
   "execution_count": 131,
   "metadata": {},
   "outputs": [],
   "source": [
    "y = df[['Release_Price']]"
   ]
  },
  {
   "cell_type": "code",
   "execution_count": 132,
   "metadata": {},
   "outputs": [],
   "source": [
    "from sklearn.model_selection import train_test_split"
   ]
  },
  {
   "cell_type": "code",
   "execution_count": 133,
   "metadata": {},
   "outputs": [],
   "source": [
    "x_train, x_test, y_train, y_test = train_test_split(x, y, test_size=0.3, random_state=50)"
   ]
  },
  {
   "cell_type": "code",
   "execution_count": 134,
   "metadata": {},
   "outputs": [
    {
     "data": {
      "text/html": [
       "<div>\n",
       "<style scoped>\n",
       "    .dataframe tbody tr th:only-of-type {\n",
       "        vertical-align: middle;\n",
       "    }\n",
       "\n",
       "    .dataframe tbody tr th {\n",
       "        vertical-align: top;\n",
       "    }\n",
       "\n",
       "    .dataframe thead th {\n",
       "        text-align: right;\n",
       "    }\n",
       "</style>\n",
       "<table border=\"1\" class=\"dataframe\">\n",
       "  <thead>\n",
       "    <tr style=\"text-align: right;\">\n",
       "      <th></th>\n",
       "      <th>DVI_Connection</th>\n",
       "      <th>DisplayPort_Connection</th>\n",
       "      <th>HDMI_Connection</th>\n",
       "      <th>Open_GL</th>\n",
       "      <th>Shader</th>\n",
       "      <th>TMUs</th>\n",
       "      <th>VGA_Connection</th>\n",
       "    </tr>\n",
       "  </thead>\n",
       "  <tbody>\n",
       "    <tr>\n",
       "      <th>2147</th>\n",
       "      <td>2.0</td>\n",
       "      <td>3.0</td>\n",
       "      <td>1.0</td>\n",
       "      <td>4.5</td>\n",
       "      <td>5.0</td>\n",
       "      <td>56.0</td>\n",
       "      <td>0.0</td>\n",
       "    </tr>\n",
       "    <tr>\n",
       "      <th>1323</th>\n",
       "      <td>2.0</td>\n",
       "      <td>2.0</td>\n",
       "      <td>0.0</td>\n",
       "      <td>2.0</td>\n",
       "      <td>2.0</td>\n",
       "      <td>64.0</td>\n",
       "      <td>0.0</td>\n",
       "    </tr>\n",
       "    <tr>\n",
       "      <th>2504</th>\n",
       "      <td>2.0</td>\n",
       "      <td>0.0</td>\n",
       "      <td>1.0</td>\n",
       "      <td>4.5</td>\n",
       "      <td>5.0</td>\n",
       "      <td>32.0</td>\n",
       "      <td>0.0</td>\n",
       "    </tr>\n",
       "    <tr>\n",
       "      <th>1801</th>\n",
       "      <td>1.0</td>\n",
       "      <td>2.0</td>\n",
       "      <td>1.0</td>\n",
       "      <td>4.3</td>\n",
       "      <td>5.0</td>\n",
       "      <td>8.0</td>\n",
       "      <td>1.0</td>\n",
       "    </tr>\n",
       "    <tr>\n",
       "      <th>965</th>\n",
       "      <td>2.0</td>\n",
       "      <td>2.0</td>\n",
       "      <td>1.0</td>\n",
       "      <td>4.4</td>\n",
       "      <td>5.0</td>\n",
       "      <td>64.0</td>\n",
       "      <td>0.0</td>\n",
       "    </tr>\n",
       "    <tr>\n",
       "      <th>...</th>\n",
       "      <td>...</td>\n",
       "      <td>...</td>\n",
       "      <td>...</td>\n",
       "      <td>...</td>\n",
       "      <td>...</td>\n",
       "      <td>...</td>\n",
       "      <td>...</td>\n",
       "    </tr>\n",
       "    <tr>\n",
       "      <th>2014</th>\n",
       "      <td>1.0</td>\n",
       "      <td>2.0</td>\n",
       "      <td>1.0</td>\n",
       "      <td>4.4</td>\n",
       "      <td>5.0</td>\n",
       "      <td>40.0</td>\n",
       "      <td>0.0</td>\n",
       "    </tr>\n",
       "    <tr>\n",
       "      <th>2157</th>\n",
       "      <td>2.0</td>\n",
       "      <td>3.0</td>\n",
       "      <td>1.0</td>\n",
       "      <td>4.5</td>\n",
       "      <td>5.0</td>\n",
       "      <td>224.0</td>\n",
       "      <td>0.0</td>\n",
       "    </tr>\n",
       "    <tr>\n",
       "      <th>1931</th>\n",
       "      <td>2.0</td>\n",
       "      <td>2.0</td>\n",
       "      <td>1.0</td>\n",
       "      <td>4.4</td>\n",
       "      <td>5.0</td>\n",
       "      <td>112.0</td>\n",
       "      <td>0.0</td>\n",
       "    </tr>\n",
       "    <tr>\n",
       "      <th>1504</th>\n",
       "      <td>0.0</td>\n",
       "      <td>2.0</td>\n",
       "      <td>0.0</td>\n",
       "      <td>1.4</td>\n",
       "      <td>2.0</td>\n",
       "      <td>64.0</td>\n",
       "      <td>0.0</td>\n",
       "    </tr>\n",
       "    <tr>\n",
       "      <th>1712</th>\n",
       "      <td>2.0</td>\n",
       "      <td>2.0</td>\n",
       "      <td>1.0</td>\n",
       "      <td>4.3</td>\n",
       "      <td>5.0</td>\n",
       "      <td>88.0</td>\n",
       "      <td>0.0</td>\n",
       "    </tr>\n",
       "  </tbody>\n",
       "</table>\n",
       "<p>2340 rows × 7 columns</p>\n",
       "</div>"
      ],
      "text/plain": [
       "      DVI_Connection  DisplayPort_Connection  HDMI_Connection  Open_GL  \\\n",
       "2147             2.0                     3.0              1.0      4.5   \n",
       "1323             2.0                     2.0              0.0      2.0   \n",
       "2504             2.0                     0.0              1.0      4.5   \n",
       "1801             1.0                     2.0              1.0      4.3   \n",
       "965              2.0                     2.0              1.0      4.4   \n",
       "...              ...                     ...              ...      ...   \n",
       "2014             1.0                     2.0              1.0      4.4   \n",
       "2157             2.0                     3.0              1.0      4.5   \n",
       "1931             2.0                     2.0              1.0      4.4   \n",
       "1504             0.0                     2.0              0.0      1.4   \n",
       "1712             2.0                     2.0              1.0      4.3   \n",
       "\n",
       "      Shader   TMUs  VGA_Connection  \n",
       "2147     5.0   56.0             0.0  \n",
       "1323     2.0   64.0             0.0  \n",
       "2504     5.0   32.0             0.0  \n",
       "1801     5.0    8.0             1.0  \n",
       "965      5.0   64.0             0.0  \n",
       "...      ...    ...             ...  \n",
       "2014     5.0   40.0             0.0  \n",
       "2157     5.0  224.0             0.0  \n",
       "1931     5.0  112.0             0.0  \n",
       "1504     2.0   64.0             0.0  \n",
       "1712     5.0   88.0             0.0  \n",
       "\n",
       "[2340 rows x 7 columns]"
      ]
     },
     "execution_count": 134,
     "metadata": {},
     "output_type": "execute_result"
    }
   ],
   "source": [
    "x_train"
   ]
  },
  {
   "cell_type": "code",
   "execution_count": 135,
   "metadata": {},
   "outputs": [
    {
     "data": {
      "text/html": [
       "<div>\n",
       "<style scoped>\n",
       "    .dataframe tbody tr th:only-of-type {\n",
       "        vertical-align: middle;\n",
       "    }\n",
       "\n",
       "    .dataframe tbody tr th {\n",
       "        vertical-align: top;\n",
       "    }\n",
       "\n",
       "    .dataframe thead th {\n",
       "        text-align: right;\n",
       "    }\n",
       "</style>\n",
       "<table border=\"1\" class=\"dataframe\">\n",
       "  <thead>\n",
       "    <tr style=\"text-align: right;\">\n",
       "      <th></th>\n",
       "      <th>DVI_Connection</th>\n",
       "      <th>DisplayPort_Connection</th>\n",
       "      <th>HDMI_Connection</th>\n",
       "      <th>Open_GL</th>\n",
       "      <th>Shader</th>\n",
       "      <th>TMUs</th>\n",
       "      <th>VGA_Connection</th>\n",
       "    </tr>\n",
       "  </thead>\n",
       "  <tbody>\n",
       "    <tr>\n",
       "      <th>1714</th>\n",
       "      <td>0.0</td>\n",
       "      <td>2.0</td>\n",
       "      <td>0.0</td>\n",
       "      <td>4.200000</td>\n",
       "      <td>5.0</td>\n",
       "      <td>88.0</td>\n",
       "      <td>0.0</td>\n",
       "    </tr>\n",
       "    <tr>\n",
       "      <th>2352</th>\n",
       "      <td>0.0</td>\n",
       "      <td>2.0</td>\n",
       "      <td>3.0</td>\n",
       "      <td>4.500000</td>\n",
       "      <td>5.0</td>\n",
       "      <td>128.0</td>\n",
       "      <td>0.0</td>\n",
       "    </tr>\n",
       "    <tr>\n",
       "      <th>1807</th>\n",
       "      <td>1.0</td>\n",
       "      <td>2.0</td>\n",
       "      <td>1.0</td>\n",
       "      <td>4.300000</td>\n",
       "      <td>5.0</td>\n",
       "      <td>8.0</td>\n",
       "      <td>1.0</td>\n",
       "    </tr>\n",
       "    <tr>\n",
       "      <th>629</th>\n",
       "      <td>1.0</td>\n",
       "      <td>2.0</td>\n",
       "      <td>1.0</td>\n",
       "      <td>3.300000</td>\n",
       "      <td>4.1</td>\n",
       "      <td>64.0</td>\n",
       "      <td>0.0</td>\n",
       "    </tr>\n",
       "    <tr>\n",
       "      <th>664</th>\n",
       "      <td>1.0</td>\n",
       "      <td>2.0</td>\n",
       "      <td>1.0</td>\n",
       "      <td>2.000000</td>\n",
       "      <td>4.1</td>\n",
       "      <td>64.0</td>\n",
       "      <td>0.0</td>\n",
       "    </tr>\n",
       "    <tr>\n",
       "      <th>...</th>\n",
       "      <td>...</td>\n",
       "      <td>...</td>\n",
       "      <td>...</td>\n",
       "      <td>...</td>\n",
       "      <td>...</td>\n",
       "      <td>...</td>\n",
       "      <td>...</td>\n",
       "    </tr>\n",
       "    <tr>\n",
       "      <th>1765</th>\n",
       "      <td>1.0</td>\n",
       "      <td>2.0</td>\n",
       "      <td>1.0</td>\n",
       "      <td>4.300000</td>\n",
       "      <td>5.0</td>\n",
       "      <td>36.0</td>\n",
       "      <td>1.0</td>\n",
       "    </tr>\n",
       "    <tr>\n",
       "      <th>3277</th>\n",
       "      <td>1.0</td>\n",
       "      <td>0.0</td>\n",
       "      <td>1.0</td>\n",
       "      <td>4.500000</td>\n",
       "      <td>5.0</td>\n",
       "      <td>16.0</td>\n",
       "      <td>1.0</td>\n",
       "    </tr>\n",
       "    <tr>\n",
       "      <th>1378</th>\n",
       "      <td>0.0</td>\n",
       "      <td>3.0</td>\n",
       "      <td>1.0</td>\n",
       "      <td>4.500000</td>\n",
       "      <td>5.0</td>\n",
       "      <td>72.0</td>\n",
       "      <td>0.0</td>\n",
       "    </tr>\n",
       "    <tr>\n",
       "      <th>436</th>\n",
       "      <td>1.0</td>\n",
       "      <td>2.0</td>\n",
       "      <td>1.0</td>\n",
       "      <td>4.040042</td>\n",
       "      <td>4.0</td>\n",
       "      <td>64.0</td>\n",
       "      <td>0.0</td>\n",
       "    </tr>\n",
       "    <tr>\n",
       "      <th>2491</th>\n",
       "      <td>2.0</td>\n",
       "      <td>2.0</td>\n",
       "      <td>1.0</td>\n",
       "      <td>4.500000</td>\n",
       "      <td>5.0</td>\n",
       "      <td>64.0</td>\n",
       "      <td>0.0</td>\n",
       "    </tr>\n",
       "  </tbody>\n",
       "</table>\n",
       "<p>1004 rows × 7 columns</p>\n",
       "</div>"
      ],
      "text/plain": [
       "      DVI_Connection  DisplayPort_Connection  HDMI_Connection   Open_GL  \\\n",
       "1714             0.0                     2.0              0.0  4.200000   \n",
       "2352             0.0                     2.0              3.0  4.500000   \n",
       "1807             1.0                     2.0              1.0  4.300000   \n",
       "629              1.0                     2.0              1.0  3.300000   \n",
       "664              1.0                     2.0              1.0  2.000000   \n",
       "...              ...                     ...              ...       ...   \n",
       "1765             1.0                     2.0              1.0  4.300000   \n",
       "3277             1.0                     0.0              1.0  4.500000   \n",
       "1378             0.0                     3.0              1.0  4.500000   \n",
       "436              1.0                     2.0              1.0  4.040042   \n",
       "2491             2.0                     2.0              1.0  4.500000   \n",
       "\n",
       "      Shader   TMUs  VGA_Connection  \n",
       "1714     5.0   88.0             0.0  \n",
       "2352     5.0  128.0             0.0  \n",
       "1807     5.0    8.0             1.0  \n",
       "629      4.1   64.0             0.0  \n",
       "664      4.1   64.0             0.0  \n",
       "...      ...    ...             ...  \n",
       "1765     5.0   36.0             1.0  \n",
       "3277     5.0   16.0             1.0  \n",
       "1378     5.0   72.0             0.0  \n",
       "436      4.0   64.0             0.0  \n",
       "2491     5.0   64.0             0.0  \n",
       "\n",
       "[1004 rows x 7 columns]"
      ]
     },
     "execution_count": 135,
     "metadata": {},
     "output_type": "execute_result"
    }
   ],
   "source": [
    "x_test"
   ]
  },
  {
   "cell_type": "code",
   "execution_count": 136,
   "metadata": {},
   "outputs": [],
   "source": [
    "from sklearn.linear_model import LinearRegression"
   ]
  },
  {
   "cell_type": "code",
   "execution_count": 137,
   "metadata": {},
   "outputs": [],
   "source": [
    "lm = LinearRegression()"
   ]
  },
  {
   "cell_type": "code",
   "execution_count": 138,
   "metadata": {},
   "outputs": [
    {
     "data": {
      "text/plain": [
       "LinearRegression(copy_X=True, fit_intercept=True, n_jobs=None, normalize=False)"
      ]
     },
     "execution_count": 138,
     "metadata": {},
     "output_type": "execute_result"
    }
   ],
   "source": [
    "lm.fit(x_train, y_train)"
   ]
  },
  {
   "cell_type": "code",
   "execution_count": 140,
   "metadata": {},
   "outputs": [
    {
     "data": {
      "text/plain": [
       "array([[  5.74873402,  17.89164736, -30.83124395,  -6.17625339,\n",
       "          5.53523681,   0.7612089 ,  12.12180136]])"
      ]
     },
     "execution_count": 140,
     "metadata": {},
     "output_type": "execute_result"
    }
   ],
   "source": [
    "lm.coef_"
   ]
  },
  {
   "cell_type": "code",
   "execution_count": 141,
   "metadata": {},
   "outputs": [
    {
     "data": {
      "text/plain": [
       "array([299.06170876])"
      ]
     },
     "execution_count": 141,
     "metadata": {},
     "output_type": "execute_result"
    }
   ],
   "source": [
    "lm.intercept_"
   ]
  },
  {
   "cell_type": "code",
   "execution_count": 142,
   "metadata": {},
   "outputs": [
    {
     "data": {
      "text/plain": [
       "<matplotlib.collections.PathCollection at 0x13e796b2788>"
      ]
     },
     "execution_count": 142,
     "metadata": {},
     "output_type": "execute_result"
    },
    {
     "data": {
      "image/png": "[encoded data removed]",
      "text/plain": [
       "<Figure size 432x288 with 1 Axes>"
      ]
     },
     "metadata": {
      "needs_background": "light"
     },
     "output_type": "display_data"
    }
   ],
   "source": [
    "predictions = lm.predict(x_test)\n",
    "plt.scatter(y_test,predictions)"
   ]
  },
  {
   "cell_type": "code",
   "execution_count": 143,
   "metadata": {},
   "outputs": [
    {
     "data": {
      "text/plain": [
       "array([[403.56730628],\n",
       "       [339.66905431],\n",
       "       [329.09226055],\n",
       "       ...,\n",
       "       [376.5954913 ],\n",
       "       [355.66848601],\n",
       "       [364.11164079]])"
      ]
     },
     "execution_count": 143,
     "metadata": {},
     "output_type": "execute_result"
    }
   ],
   "source": [
    "predictions"
   ]
  },
  {
   "cell_type": "code",
   "execution_count": null,
   "metadata": {},
   "outputs": [],
   "source": []
  },
  {
   "cell_type": "code",
   "execution_count": null,
   "metadata": {},
   "outputs": [],
   "source": []
  }
 ],
 "metadata": {
  "kernelspec": {
   "display_name": "Python 3",
   "language": "python",
   "name": "python3"
  },
  "language_info": {
   "codemirror_mode": {
    "name": "ipython",
    "version": 3
   },
   "file_extension": ".py",
   "mimetype": "text/x-python",
   "name": "python",
   "nbconvert_exporter": "python",
   "pygments_lexer": "ipython3",
   "version": "3.7.6"
  }
 },
 "nbformat": 4,
 "nbformat_minor": 4
}
