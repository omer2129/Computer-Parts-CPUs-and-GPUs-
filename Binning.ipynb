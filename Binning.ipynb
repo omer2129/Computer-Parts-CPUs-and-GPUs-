{
 "cells": [
  {
   "cell_type": "code",
   "execution_count": 7,
   "metadata": {},
   "outputs": [],
   "source": [
    "import pandas as pd\n",
    "import numpy as np\n",
    "path=\"F:/DataWrangling_part2.csv\"\n",
    "df=pd.read_csv(path)"
   ]
  },
  {
   "cell_type": "code",
   "execution_count": 8,
   "metadata": {},
   "outputs": [
    {
     "data": {
      "text/html": [
       "<div>\n",
       "<style scoped>\n",
       "    .dataframe tbody tr th:only-of-type {\n",
       "        vertical-align: middle;\n",
       "    }\n",
       "\n",
       "    .dataframe tbody tr th {\n",
       "        vertical-align: top;\n",
       "    }\n",
       "\n",
       "    .dataframe thead th {\n",
       "        text-align: right;\n",
       "    }\n",
       "</style>\n",
       "<table border=\"1\" class=\"dataframe\">\n",
       "  <thead>\n",
       "    <tr style=\"text-align: right;\">\n",
       "      <th></th>\n",
       "      <th>Unnamed: 0</th>\n",
       "      <th>Unnamed: 0.1</th>\n",
       "      <th>Architecture</th>\n",
       "      <th>Best_Resolution</th>\n",
       "      <th>Boost_Clock</th>\n",
       "      <th>Core_Speed</th>\n",
       "      <th>DVI_Connection</th>\n",
       "      <th>Dedicated</th>\n",
       "      <th>Direct_X</th>\n",
       "      <th>DisplayPort_Connection</th>\n",
       "      <th>...</th>\n",
       "      <th>Process</th>\n",
       "      <th>ROPs</th>\n",
       "      <th>Release_Date</th>\n",
       "      <th>Release_Price</th>\n",
       "      <th>Resolution_WxH</th>\n",
       "      <th>SLI_Crossfire</th>\n",
       "      <th>Shader</th>\n",
       "      <th>TMUs</th>\n",
       "      <th>Texture_Rate</th>\n",
       "      <th>VGA_Connection</th>\n",
       "    </tr>\n",
       "  </thead>\n",
       "  <tbody>\n",
       "    <tr>\n",
       "      <th>0</th>\n",
       "      <td>0</td>\n",
       "      <td>0</td>\n",
       "      <td>Tesla G92b</td>\n",
       "      <td>1920 x 1080</td>\n",
       "      <td>1050 MHz</td>\n",
       "      <td>738 MHz</td>\n",
       "      <td>2.0</td>\n",
       "      <td>Yes</td>\n",
       "      <td>DX 10.0</td>\n",
       "      <td>2.0</td>\n",
       "      <td>...</td>\n",
       "      <td>55nm</td>\n",
       "      <td>16</td>\n",
       "      <td>\\n01-Mar-2009</td>\n",
       "      <td>371.562446</td>\n",
       "      <td>2560x1600</td>\n",
       "      <td>Yes</td>\n",
       "      <td>4.0</td>\n",
       "      <td>64.0</td>\n",
       "      <td>47 GTexel/s</td>\n",
       "      <td>0.0</td>\n",
       "    </tr>\n",
       "    <tr>\n",
       "      <th>1</th>\n",
       "      <td>1</td>\n",
       "      <td>1</td>\n",
       "      <td>R600 XT</td>\n",
       "      <td>1366 x 768</td>\n",
       "      <td>1050 MHz</td>\n",
       "      <td>1000 MHz</td>\n",
       "      <td>2.0</td>\n",
       "      <td>Yes</td>\n",
       "      <td>DX 10</td>\n",
       "      <td>2.0</td>\n",
       "      <td>...</td>\n",
       "      <td>80nm</td>\n",
       "      <td>16</td>\n",
       "      <td>\\n14-May-2007</td>\n",
       "      <td>371.562446</td>\n",
       "      <td>2560x1600</td>\n",
       "      <td>Yes</td>\n",
       "      <td>4.0</td>\n",
       "      <td>16.0</td>\n",
       "      <td>12 GTexel/s</td>\n",
       "      <td>0.0</td>\n",
       "    </tr>\n",
       "    <tr>\n",
       "      <th>2</th>\n",
       "      <td>2</td>\n",
       "      <td>2</td>\n",
       "      <td>R600 PRO</td>\n",
       "      <td>1366 x 768</td>\n",
       "      <td>1050 MHz</td>\n",
       "      <td>1000 MHz</td>\n",
       "      <td>2.0</td>\n",
       "      <td>Yes</td>\n",
       "      <td>DX 10</td>\n",
       "      <td>2.0</td>\n",
       "      <td>...</td>\n",
       "      <td>80nm</td>\n",
       "      <td>16</td>\n",
       "      <td>\\n07-Dec-2007</td>\n",
       "      <td>371.562446</td>\n",
       "      <td>2560x1600</td>\n",
       "      <td>Yes</td>\n",
       "      <td>4.0</td>\n",
       "      <td>16.0</td>\n",
       "      <td>10 GTexel/s</td>\n",
       "      <td>0.0</td>\n",
       "    </tr>\n",
       "    <tr>\n",
       "      <th>3</th>\n",
       "      <td>3</td>\n",
       "      <td>3</td>\n",
       "      <td>RV630</td>\n",
       "      <td>1024 x 768</td>\n",
       "      <td>1050 MHz</td>\n",
       "      <td>1000 MHz</td>\n",
       "      <td>2.0</td>\n",
       "      <td>Yes</td>\n",
       "      <td>DX 10</td>\n",
       "      <td>2.0</td>\n",
       "      <td>...</td>\n",
       "      <td>65nm</td>\n",
       "      <td>4</td>\n",
       "      <td>\\n01-Jul-2007</td>\n",
       "      <td>371.562446</td>\n",
       "      <td>2560x1600</td>\n",
       "      <td>Yes</td>\n",
       "      <td>4.0</td>\n",
       "      <td>8.0</td>\n",
       "      <td>7 GTexel/s</td>\n",
       "      <td>0.0</td>\n",
       "    </tr>\n",
       "    <tr>\n",
       "      <th>4</th>\n",
       "      <td>4</td>\n",
       "      <td>4</td>\n",
       "      <td>RV630</td>\n",
       "      <td>1024 x 768</td>\n",
       "      <td>1050 MHz</td>\n",
       "      <td>1000 MHz</td>\n",
       "      <td>2.0</td>\n",
       "      <td>Yes</td>\n",
       "      <td>DX 10</td>\n",
       "      <td>2.0</td>\n",
       "      <td>...</td>\n",
       "      <td>65nm</td>\n",
       "      <td>4</td>\n",
       "      <td>\\n28-Jun-2007</td>\n",
       "      <td>371.562446</td>\n",
       "      <td>2560x1600</td>\n",
       "      <td>Yes</td>\n",
       "      <td>4.0</td>\n",
       "      <td>8.0</td>\n",
       "      <td>6 GTexel/s</td>\n",
       "      <td>0.0</td>\n",
       "    </tr>\n",
       "  </tbody>\n",
       "</table>\n",
       "<p>5 rows × 36 columns</p>\n",
       "</div>"
      ],
      "text/plain": [
       "   Unnamed: 0  Unnamed: 0.1 Architecture Best_Resolution Boost_Clock  \\\n",
       "0           0             0  Tesla G92b      1920 x 1080   1050 MHz    \n",
       "1           1             1     R600 XT       1366 x 768   1050 MHz    \n",
       "2           2             2    R600 PRO       1366 x 768   1050 MHz    \n",
       "3           3             3       RV630       1024 x 768   1050 MHz    \n",
       "4           4             4       RV630       1024 x 768   1050 MHz    \n",
       "\n",
       "  Core_Speed  DVI_Connection Dedicated Direct_X  DisplayPort_Connection  ...  \\\n",
       "0    738 MHz             2.0       Yes  DX 10.0                     2.0  ...   \n",
       "1   1000 MHz             2.0       Yes    DX 10                     2.0  ...   \n",
       "2   1000 MHz             2.0       Yes    DX 10                     2.0  ...   \n",
       "3   1000 MHz             2.0       Yes    DX 10                     2.0  ...   \n",
       "4   1000 MHz             2.0       Yes    DX 10                     2.0  ...   \n",
       "\n",
       "   Process ROPs    Release_Date Release_Price Resolution_WxH SLI_Crossfire  \\\n",
       "0     55nm   16  \\n01-Mar-2009     371.562446      2560x1600           Yes   \n",
       "1     80nm   16  \\n14-May-2007     371.562446      2560x1600           Yes   \n",
       "2     80nm   16  \\n07-Dec-2007     371.562446      2560x1600           Yes   \n",
       "3     65nm    4  \\n01-Jul-2007     371.562446      2560x1600           Yes   \n",
       "4     65nm    4  \\n28-Jun-2007     371.562446      2560x1600           Yes   \n",
       "\n",
       "  Shader  TMUs Texture_Rate VGA_Connection  \n",
       "0    4.0  64.0  47 GTexel/s            0.0  \n",
       "1    4.0  16.0  12 GTexel/s            0.0  \n",
       "2    4.0  16.0  10 GTexel/s            0.0  \n",
       "3    4.0   8.0   7 GTexel/s            0.0  \n",
       "4    4.0   8.0   6 GTexel/s            0.0  \n",
       "\n",
       "[5 rows x 36 columns]"
      ]
     },
     "execution_count": 8,
     "metadata": {},
     "output_type": "execute_result"
    }
   ],
   "source": [
    "df.head()"
   ]
  },
  {
   "cell_type": "code",
   "execution_count": 26,
   "metadata": {},
   "outputs": [],
   "source": [
    "bins = np.linspace(min(df[\"Release_Price\"]),max(df[\"Release_Price\"]),4)"
   ]
  },
  {
   "cell_type": "code",
   "execution_count": 36,
   "metadata": {},
   "outputs": [],
   "source": [
    "bins = [0, 150,200,  300]"
   ]
  },
  {
   "cell_type": "code",
   "execution_count": 37,
   "metadata": {},
   "outputs": [],
   "source": [
    "label_names = ['CHEAP','MID RANGE','EXPENSIVE']"
   ]
  },
  {
   "cell_type": "code",
   "execution_count": 42,
   "metadata": {},
   "outputs": [],
   "source": [
    "df[\"Release_Price-binned\"] = pd.cut(df[\"Release_Price\"],bins,labels=label_names,include_lowest=True)"
   ]
  },
  {
   "cell_type": "code",
   "execution_count": 43,
   "metadata": {},
   "outputs": [
    {
     "data": {
      "text/plain": [
       "Text(0.5, 1.0, 'Release_Price Bins')"
      ]
     },
     "execution_count": 43,
     "metadata": {},
     "output_type": "execute_result"
    },
    {
     "data": {
      "image/png": "[encoded data removed]",
      "text/plain": [
       "<Figure size 432x288 with 1 Axes>"
      ]
     },
     "metadata": {
      "needs_background": "light"
     },
     "output_type": "display_data"
    }
   ],
   "source": [
    "import matplotlib as plt\n",
    "from matplotlib import pyplot\n",
    "plt.pyplot.bar(label_names,df['Release_Price-binned'].value_counts())\n",
    "plt.pyplot.xlabel(\"Release_Price\")\n",
    "plt.pyplot.ylabel(\"Count\")\n",
    "plt.pyplot.title(\"Release_Price Bins\")"
   ]
  },
  {
   "cell_type": "code",
   "execution_count": 44,
   "metadata": {},
   "outputs": [],
   "source": [
    "import matplotlib.pyplot as plt"
   ]
  },
  {
   "cell_type": "code",
   "execution_count": 45,
   "metadata": {},
   "outputs": [],
   "source": [
    "plt.show()"
   ]
  },
  {
   "cell_type": "code",
   "execution_count": null,
   "metadata": {},
   "outputs": [],
   "source": []
  }
 ],
 "metadata": {
  "kernelspec": {
   "display_name": "Python 3",
   "language": "python",
   "name": "python3"
  },
  "language_info": {
   "codemirror_mode": {
    "name": "ipython",
    "version": 3
   },
   "file_extension": ".py",
   "mimetype": "text/x-python",
   "name": "python",
   "nbconvert_exporter": "python",
   "pygments_lexer": "ipython3",
   "version": "3.7.6"
  }
 },
 "nbformat": 4,
 "nbformat_minor": 4
}
